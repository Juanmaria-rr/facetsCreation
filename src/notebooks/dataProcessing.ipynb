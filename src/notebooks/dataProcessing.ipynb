{
 "cells": [
  {
   "cell_type": "code",
   "execution_count": 1,
   "metadata": {},
   "outputs": [],
   "source": [
    "from pyspark.sql import SparkSession, Window\n",
    "import pyspark.sql.functions as F\n",
    "import matplotlib.pyplot as plt\n",
    "import seaborn as sns\n",
    "from datetime import date\n",
    "from pyspark.sql.types import StructType, StructField, StringType, IntegerType\n",
    "from pyspark.sql.types import (\n",
    "    StructType,\n",
    "    StructField,\n",
    "    DoubleType,\n",
    "    DecimalType,\n",
    "    StringType,\n",
    "    FloatType,\n",
    ")\n",
    "\n",
    "\n",
    "spark = SparkSession.builder.getOrCreate()"
   ]
  },
  {
   "cell_type": "markdown",
   "metadata": {},
   "source": [
    "### checking 20.05.2024 unique list of category"
   ]
  },
  {
   "cell_type": "code",
   "execution_count": 2,
   "metadata": {},
   "outputs": [
    {
     "name": "stderr",
     "output_type": "stream",
     "text": [
      "                                                                                \r"
     ]
    }
   ],
   "source": [
    "target_path = \"gs://open-targets-data-releases/24.06/output/etl/parquet/targets/\"\n",
    "target = spark.read.parquet(target_path)"
   ]
  },
  {
   "cell_type": "code",
   "execution_count": 3,
   "metadata": {},
   "outputs": [
    {
     "name": "stderr",
     "output_type": "stream",
     "text": [
      "                                                                                \r"
     ]
    }
   ],
   "source": [
    "target_path = \"gs://open-targets-data-releases/24.06/output/etl/parquet/targets/\"\n",
    "target = spark.read.parquet(target_path)\n",
    "go = spark.read.parquet(\"gs://open-targets-data-releases/24.06/output/etl/parquet/go\")\n",
    "diseases_all = spark.read.parquet(\n",
    "    \"gs://open-targets-data-releases/24.06/output/etl/parquet/diseases/\"\n",
    ")"
   ]
  },
  {
   "cell_type": "markdown",
   "metadata": {},
   "source": [
    "### make dataframes "
   ]
  },
  {
   "cell_type": "code",
   "execution_count": null,
   "metadata": {},
   "outputs": [],
   "source": [
    "#### third revision:\n",
    "## include ensemblId on categoryId\n",
    "## include SL terms"
   ]
  },
  {
   "cell_type": "code",
   "execution_count": 3,
   "metadata": {},
   "outputs": [],
   "source": [
    "column_order = [\"targetId\", \"categoryType\", \"categoryLabel\", \"categoryId\"]\n",
    "\n",
    "##approvedSymbol\n",
    "approvedSymbol = (\n",
    "    target.select(F.col(\"id\").alias(\"targetId\"), \"approvedSymbol\")\n",
    "    .withColumn(\"categoryType\", F.lit(\"approvedSymbol\"))\n",
    "    .withColumn(\"categoryId\", F.col(\"targetId\"))\n",
    "    .withColumnRenamed(\"approvedSymbol\", \"categoryLabel\")\n",
    "    .distinct()\n",
    "    .persist()\n",
    "    .select(*column_order)\n",
    ")\n",
    "## go\n",
    "go_terms = (\n",
    "    target.select(F.col(\"id\").alias(\"targetId\"), F.explode_outer(F.col(\"go\")))\n",
    "    .select(\"targetId\", \"col.*\")\n",
    "    .join(go, on=\"id\", how=\"left\")\n",
    "    .withColumn(\n",
    "        \"categoryType\",\n",
    "        F.when(F.col(\"aspect\") == \"F\", F.concat(F.lit(\"GO:\"), F.lit(\"MF\")))\n",
    "        .when(F.col(\"aspect\") == \"P\", F.concat(F.lit(\"GO:\"), F.lit(\"BP\")))\n",
    "        .when(F.col(\"aspect\") == \"C\", F.concat(F.lit(\"GO:\"), F.lit(\"CC\"))),\n",
    "    )\n",
    "    .withColumn(\"categoryLabel\", F.col(\"name\"))\n",
    "    .drop(\"name\")\n",
    "    .withColumn(\"categoryId\", F.col(\"id\"))\n",
    "    .select(\"targetId\", \"categoryType\", \"categoryLabel\", \"categoryId\")\n",
    "    .distinct()\n",
    "    .select(*column_order)\n",
    ").persist()\n",
    "\n",
    "## location\n",
    "location = (\n",
    "    target.select(\n",
    "        F.col(\"id\").alias(\"targetId\"),\n",
    "        F.transform(\n",
    "            \"subcellularLocations\",\n",
    "            lambda x: F.struct(\n",
    "                x.location.alias(\"categoryLabel\"),\n",
    "                x.termSL.alias(\"categoryId\"),\n",
    "                x.source.alias(\"categoryType\"),\n",
    "            ),\n",
    "        ).alias(\"subcellularLocation\"),\n",
    "    )\n",
    "    .select(\"targetId\", F.explode_outer(F.col(\"subcellularLocation\")))\n",
    "    .select(\"targetId\", \"col.*\")\n",
    "    .distinct()\n",
    "    .select(*column_order)\n",
    ").persist()\n",
    "\n",
    "## targetClass\n",
    "targetClass = (\n",
    "    target.select(F.col(\"id\").alias(\"targetId\"), \"targetClass\")\n",
    "    .filter(F.col(\"targetClass\").isNotNull())\n",
    "    .select(\"targetId\", F.explode_outer(F.col(\"targetClass\")))\n",
    "    .select(\"targetId\", \"col.*\")\n",
    "    .withColumn(\"categoryType\", F.lit(\"ChEMBL target\"))\n",
    "    .withColumn(\"categoryId\", F.lit(None))\n",
    "    .drop(\"id\", \"level\")\n",
    "    .withColumnRenamed(\"label\", \"categoryLabel\")\n",
    "    .distinct()\n",
    "    .select(*column_order)\n",
    "    .persist()\n",
    ")\n",
    "## pathways\n",
    "pathways = (\n",
    "    target.select(\n",
    "        F.col(\"id\").alias(\"targetId\"),\n",
    "        F.transform(\n",
    "            \"pathways\",\n",
    "            lambda x: F.struct(\n",
    "                x.pathway.alias(\"categoryLabel\"),\n",
    "                x.pathwayId.alias(\"categoryId\"),\n",
    "                # x.topLevelTerm.alias(\"categoryType\"),\n",
    "            ),\n",
    "        ).alias(\"more\"),\n",
    "    )\n",
    "    .select(\"targetId\", F.explode_outer(F.col(\"more\")))\n",
    "    .select(\"targetId\", \"col.*\")\n",
    "    .withColumn(\"categoryType\", F.lit(\"Reactome\"))\n",
    "    .distinct()\n",
    "    .select(*column_order)\n",
    "    .persist()\n",
    ")\n",
    "## union of everything\n",
    "union = (\n",
    "    (approvedSymbol.union(go_terms).union(location).union(targetClass).union(pathways))\n",
    "    .filter(F.col(\"targetId\").isNotNull())\n",
    "    .persist()\n",
    ")"
   ]
  },
  {
   "cell_type": "code",
   "execution_count": 14,
   "metadata": {},
   "outputs": [
    {
     "name": "stderr",
     "output_type": "stream",
     "text": [
      "                                                                                \r"
     ]
    }
   ],
   "source": [
    "### write to json format:\n",
    "union.coalesce(1).write.format(\"json\").save(\"gs://ot-team/jroldan/facetsTarget.json\")"
   ]
  },
  {
   "cell_type": "markdown",
   "metadata": {},
   "source": [
    "## James suggestions: \n",
    "    - groupBy categoryType and categoryLabel and collect on list targetId (I included categoryId)\n",
    "    - Remove orphaned targetId with any other field."
   ]
  },
  {
   "cell_type": "code",
   "execution_count": null,
   "metadata": {},
   "outputs": [],
   "source": [
    "unionV2 = (\n",
    "    union.filter(\n",
    "        (F.col(\"categoryType\").isNotNull())\n",
    "        | (F.col(\"categoryLabel\").isNotNull())\n",
    "        | (F.col(\"categoryId\").isNotNull())\n",
    "    )\n",
    "    .groupBy(\"categoryType\", \"categoryLabel\")\n",
    "    .agg(\n",
    "        F.collect_set(\"targetId\").alias(\"targetId\"),\n",
    "        F.collect_set(\"categoryId\").alias(\"categoryId\"),\n",
    "    )\n",
    ")"
   ]
  },
  {
   "cell_type": "code",
   "execution_count": 29,
   "metadata": {},
   "outputs": [
    {
     "name": "stderr",
     "output_type": "stream",
     "text": [
      "                                                                                \r"
     ]
    }
   ],
   "source": [
    "unionV2.coalesce(1).write.format(\"json\").save(\n",
    "    \"gs://ot-team/jroldan/facetsTargetV2.json\"\n",
    ")"
   ]
  },
  {
   "cell_type": "code",
   "execution_count": 33,
   "metadata": {},
   "outputs": [
    {
     "name": "stdout",
     "output_type": "stream",
     "text": [
      "+--------------+---------+-----------------+-----------------+----+\n",
      "|      category|    label|        entityIds|        facetsIds|size|\n",
      "+--------------+---------+-----------------+-----------------+----+\n",
      "|approvedSymbol|   ACOT11|[ENSG00000162390]|[ENSG00000162390]|   1|\n",
      "|approvedSymbol|    ACSM1|[ENSG00000166743]|[ENSG00000166743]|   1|\n",
      "|approvedSymbol| AGPAT5P1|[ENSG00000234652]|[ENSG00000234652]|   1|\n",
      "|approvedSymbol|   AIDAP2|[ENSG00000251429]|[ENSG00000251429]|   1|\n",
      "|approvedSymbol|  ANKRD55|[ENSG00000164512]|[ENSG00000164512]|   1|\n",
      "|approvedSymbol|  APCDD1L|[ENSG00000198768]|[ENSG00000198768]|   1|\n",
      "|approvedSymbol|ATP5F1AP3|[ENSG00000263232]|[ENSG00000263232]|   1|\n",
      "|approvedSymbol|  AURKAP1|[ENSG00000213033]|[ENSG00000213033]|   1|\n",
      "|approvedSymbol|   BDKRB2|[ENSG00000168398]|[ENSG00000168398]|   1|\n",
      "|approvedSymbol|    BEND4|[ENSG00000188848]|[ENSG00000188848]|   1|\n",
      "|approvedSymbol|  BTF3P14|[ENSG00000262609]|[ENSG00000262609]|   1|\n",
      "|approvedSymbol| C15orf39|[ENSG00000167173]|[ENSG00000167173]|   1|\n",
      "|approvedSymbol| CBR3-AS1|[ENSG00000236830]|[ENSG00000236830]|   1|\n",
      "|approvedSymbol|   CCNJP2|[ENSG00000223896]|[ENSG00000223896]|   1|\n",
      "|approvedSymbol|   CCT8P1|[ENSG00000226015]|[ENSG00000226015]|   1|\n",
      "|approvedSymbol|  CDC26P1|[ENSG00000238072]|[ENSG00000238072]|   1|\n",
      "|approvedSymbol|   CDKN2D|[ENSG00000129355]|[ENSG00000129355]|   1|\n",
      "|approvedSymbol|CDRT15P10|[ENSG00000273693]|[ENSG00000273693]|   1|\n",
      "|approvedSymbol|    CFHR3|[ENSG00000116785]|[ENSG00000116785]|   1|\n",
      "|approvedSymbol|    CLCA4|[ENSG00000016602]|[ENSG00000016602]|   1|\n",
      "+--------------+---------+-----------------+-----------------+----+\n",
      "only showing top 20 rows\n",
      "\n"
     ]
    }
   ],
   "source": [
    "realNames.filter(F.col(\"category\") == \"approvedSymbol\").show()"
   ]
  },
  {
   "cell_type": "code",
   "execution_count": 34,
   "metadata": {},
   "outputs": [
    {
     "name": "stdout",
     "output_type": "stream",
     "text": [
      "+--------------+-------+--------------------+--------------------+----+\n",
      "|      category|  label|           entityIds|           facetsIds|size|\n",
      "+--------------+-------+--------------------+--------------------+----+\n",
      "|approvedSymbol|SUGT1P3|[ENSG00000290464,...|[ENSG00000290464,...|   2|\n",
      "+--------------+-------+--------------------+--------------------+----+\n",
      "\n"
     ]
    }
   ],
   "source": [
    "realNames.filter(F.col(\"label\") == \"SUGT1P3\").show()"
   ]
  },
  {
   "cell_type": "code",
   "execution_count": 37,
   "metadata": {},
   "outputs": [
    {
     "name": "stdout",
     "output_type": "stream",
     "text": [
      "+----+--------------+-----+\n",
      "|size|      category|count|\n",
      "+----+--------------+-----+\n",
      "|   2|approvedSymbol|  452|\n",
      "|   2|      Reactome|   13|\n",
      "|   7|approvedSymbol|    6|\n",
      "|   3|approvedSymbol|    7|\n",
      "|  50|approvedSymbol|    1|\n",
      "|   8|approvedSymbol|    1|\n",
      "| 170|approvedSymbol|    1|\n",
      "|   4|approvedSymbol|    5|\n",
      "|  22|approvedSymbol|    1|\n",
      "| 756|approvedSymbol|    1|\n",
      "|   6|approvedSymbol|    1|\n",
      "|   9|approvedSymbol|    1|\n",
      "|  33|approvedSymbol|    1|\n",
      "|  19|approvedSymbol|    1|\n",
      "|  27|approvedSymbol|    1|\n",
      "+----+--------------+-----+\n",
      "\n"
     ]
    }
   ],
   "source": [
    "realNames.filter(F.col(\"size\") > 1).groupBy(\"size\", \"category\").count().show()"
   ]
  },
  {
   "cell_type": "markdown",
   "metadata": {},
   "source": [
    "### 12.04.2024\n",
    "    David wants to change: \n",
    "        * when catetory == approvedSymbol all datasourceId will be null . If the problem is limited to approvedSymbol this should flatten the field\n",
    "        * so facetIds (Array) becomes datasourceId (nullable String)\n",
    "        * the logic is that ENSGXX is not really the datasourceId for approvedSymbol if the same category can have multiple ENSGXXX\n"
   ]
  },
  {
   "cell_type": "markdown",
   "metadata": {},
   "source": [
    "#### \"targetIds\" -> \"entityIds\"\n",
    "#### \"categoryType\" -> \"category\"\n",
    "#### \"categoryLabel\" -> \"label\"\n",
    "#### \"categoryIds\" -> \"facetIds\""
   ]
  },
  {
   "cell_type": "code",
   "execution_count": 4,
   "metadata": {},
   "outputs": [
    {
     "name": "stderr",
     "output_type": "stream",
     "text": [
      "24/05/21 13:09:06 WARN CacheManager: Asked to cache already cached data.\n",
      "24/05/21 13:09:06 WARN CacheManager: Asked to cache already cached data.\n",
      "24/05/21 13:09:06 WARN CacheManager: Asked to cache already cached data.\n",
      "24/05/21 13:09:06 WARN CacheManager: Asked to cache already cached data.\n"
     ]
    }
   ],
   "source": [
    "### 2nd version:\n",
    "### changes:\n",
    "# when datasource == approvedsymbol, facetsId == null\n",
    "\n",
    "column_order = [\"targetId\", \"categoryType\", \"categoryLabel\", \"categoryId\"]\n",
    "\n",
    "##approvedSymbol\n",
    "approvedSymbol = (\n",
    "    target.select(F.col(\"id\").alias(\"targetId\"), \"approvedSymbol\")\n",
    "    .withColumn(\"categoryType\", F.lit(\"approvedSymbol\"))\n",
    "    .withColumn(\"categoryId\", F.lit(None))  ### changed it 12.04.2024\n",
    "    .withColumnRenamed(\"approvedSymbol\", \"categoryLabel\")\n",
    "    .distinct()\n",
    "    .persist()\n",
    "    .select(*column_order)\n",
    ")\n",
    "## go\n",
    "go_terms = (\n",
    "    target.select(F.col(\"id\").alias(\"targetId\"), F.explode_outer(F.col(\"go\")))\n",
    "    .select(\"targetId\", \"col.*\")\n",
    "    .join(go, on=\"id\", how=\"left\")\n",
    "    .withColumn(\n",
    "        \"categoryType\",\n",
    "        F.when(F.col(\"aspect\") == \"F\", F.concat(F.lit(\"GO:\"), F.lit(\"MF\")))\n",
    "        .when(F.col(\"aspect\") == \"P\", F.concat(F.lit(\"GO:\"), F.lit(\"BP\")))\n",
    "        .when(F.col(\"aspect\") == \"C\", F.concat(F.lit(\"GO:\"), F.lit(\"CC\"))),\n",
    "    )\n",
    "    .withColumn(\"categoryLabel\", F.col(\"name\"))\n",
    "    .drop(\"name\")\n",
    "    .withColumn(\"categoryId\", F.col(\"id\"))\n",
    "    .select(\"targetId\", \"categoryType\", \"categoryLabel\", \"categoryId\")\n",
    "    .distinct()\n",
    "    .select(*column_order)\n",
    ").persist()\n",
    "\n",
    "## location\n",
    "location = (\n",
    "    target.select(\n",
    "        F.col(\"id\").alias(\"targetId\"),\n",
    "        F.transform(\n",
    "            \"subcellularLocations\",\n",
    "            lambda x: F.struct(\n",
    "                x.location.alias(\"categoryLabel\"),\n",
    "                x.termSL.alias(\"categoryId\"),\n",
    "                x.source.alias(\"categoryType\"),\n",
    "            ),\n",
    "        ).alias(\"subcellularLocation\"),\n",
    "    )\n",
    "    .select(\"targetId\", F.explode_outer(F.col(\"subcellularLocation\")))\n",
    "    .select(\"targetId\", \"col.*\")\n",
    "    .distinct()\n",
    "    .select(*column_order)\n",
    ").persist()\n",
    "\n",
    "## targetClass\n",
    "targetClass = (\n",
    "    target.select(F.col(\"id\").alias(\"targetId\"), \"targetClass\")\n",
    "    .filter(F.col(\"targetClass\").isNotNull())\n",
    "    .select(\"targetId\", F.explode_outer(F.col(\"targetClass\")))\n",
    "    .select(\"targetId\", \"col.*\")\n",
    "    .withColumn(\"categoryType\", F.lit(\"ChEMBL target\"))\n",
    "    .withColumn(\"categoryId\", F.lit(None))\n",
    "    .drop(\"id\", \"level\")\n",
    "    .withColumnRenamed(\"label\", \"categoryLabel\")\n",
    "    .distinct()\n",
    "    .select(*column_order)\n",
    "    .persist()\n",
    ")\n",
    "## pathways\n",
    "pathways = (\n",
    "    target.select(\n",
    "        F.col(\"id\").alias(\"targetId\"),\n",
    "        F.transform(\n",
    "            \"pathways\",\n",
    "            lambda x: F.struct(\n",
    "                x.pathway.alias(\"categoryLabel\"),\n",
    "                x.pathwayId.alias(\"categoryId\"),\n",
    "                # x.topLevelTerm.alias(\"categoryType\"),\n",
    "            ),\n",
    "        ).alias(\"more\"),\n",
    "    )\n",
    "    .select(\"targetId\", F.explode_outer(F.col(\"more\")))\n",
    "    .select(\"targetId\", \"col.*\")\n",
    "    .withColumn(\"categoryType\", F.lit(\"Reactome\"))\n",
    "    .distinct()\n",
    "    .select(*column_order)\n",
    "    .persist()\n",
    ")\n",
    "## union of everything\n",
    "union = (\n",
    "    (approvedSymbol.union(go_terms).union(location).union(targetClass).union(pathways))\n",
    "    .filter(F.col(\"targetId\").isNotNull())\n",
    "    .persist()\n",
    ")\n",
    "\n",
    "### with used names:\n",
    "\n",
    "unionNew = union.selectExpr(\n",
    "    \"categoryType as category\",\n",
    "    \"categoryLabel as label\",\n",
    "    \"targetId as entityIds\",\n",
    "    \"categoryId as datasourceId\",\n",
    ")"
   ]
  },
  {
   "cell_type": "code",
   "execution_count": 6,
   "metadata": {},
   "outputs": [
    {
     "name": "stderr",
     "output_type": "stream",
     "text": [
      "[Stage 13:====================================================>   (42 + 3) / 45]\r"
     ]
    },
    {
     "name": "stdout",
     "output_type": "stream",
     "text": [
      "+-----------------------------+-----+\n",
      "|category                     |count|\n",
      "+-----------------------------+-----+\n",
      "|GO:CC                        |1823 |\n",
      "|GO:MF                        |4673 |\n",
      "|Subcellular Location         |817  |\n",
      "|Tractability Antibody        |9    |\n",
      "|GO:BP                        |12232|\n",
      "|Approved Name                |47927|\n",
      "|Approved Symbol              |61619|\n",
      "|ChEMBL Target Class          |720  |\n",
      "|Reactome                     |2140 |\n",
      "|Target ID                    |63226|\n",
      "|Tractability Small Molecule  |8    |\n",
      "|Tractability PROTAC          |7    |\n",
      "|Tractability Other Modalities|3    |\n",
      "+-----------------------------+-----+\n",
      "\n"
     ]
    },
    {
     "name": "stderr",
     "output_type": "stream",
     "text": [
      "                                                                                \r"
     ]
    }
   ],
   "source": [
    "spark.read.parquet(\n",
    "    \"gs://open-targets-pre-data-releases/jhpis/output/etl/parquet/facetSearchTarget\"\n",
    ").groupBy(\"category\").count().show(200, truncate=False)"
   ]
  },
  {
   "cell_type": "code",
   "execution_count": 7,
   "metadata": {},
   "outputs": [
    {
     "name": "stderr",
     "output_type": "stream",
     "text": [
      "[Stage 19:===========================================>              (6 + 2) / 8]\r"
     ]
    },
    {
     "name": "stdout",
     "output_type": "stream",
     "text": [
      "+----------------+\n",
      "|category        |\n",
      "+----------------+\n",
      "|Disease         |\n",
      "|Therapeutic Area|\n",
      "+----------------+\n",
      "\n"
     ]
    },
    {
     "name": "stderr",
     "output_type": "stream",
     "text": [
      "                                                                                \r"
     ]
    }
   ],
   "source": [
    "spark.read.parquet(\n",
    "    \"gs://open-targets-pre-data-releases/jhpis/output/etl/parquet/facetSearchDisease\"\n",
    ").select(\"category\").distinct().show(200, truncate=False)"
   ]
  },
  {
   "cell_type": "code",
   "execution_count": 6,
   "metadata": {},
   "outputs": [
    {
     "name": "stderr",
     "output_type": "stream",
     "text": [
      "[Stage 9:===================================================> (970 + 17) / 1000]\r"
     ]
    },
    {
     "name": "stdout",
     "output_type": "stream",
     "text": [
      "+--------+--------------------+---------------+-------------+\n",
      "|category|               label|      entityIds| datasourceId|\n",
      "+--------+--------------------+---------------+-------------+\n",
      "|Reactome|Detoxification of...|ENSG00000291237|R-HSA-3299685|\n",
      "|Reactome|Transcriptional a...|ENSG00000291237|R-HSA-2151201|\n",
      "|Reactome|FOXO-mediated tra...|ENSG00000291237|R-HSA-9615017|\n",
      "|Reactome|Gene and protein ...|ENSG00000291237|R-HSA-8950505|\n",
      "|Reactome|Deregulated CDK5 ...|ENSG00000291237|R-HSA-8862803|\n",
      "|Reactome|Loss of proteins ...|ENSG00000290263| R-HSA-380284|\n",
      "|Reactome|Regulation of PLK...|ENSG00000290263|R-HSA-2565942|\n",
      "|Reactome|Recruitment of mi...|ENSG00000290263| R-HSA-380270|\n",
      "|Reactome|Recruitment of Nu...|ENSG00000290263| R-HSA-380320|\n",
      "|Reactome|Loss of Nlp from ...|ENSG00000290263| R-HSA-380259|\n",
      "|Reactome|Anchoring of the ...|ENSG00000290263|R-HSA-5620912|\n",
      "|Reactome|AURKA Activation ...|ENSG00000290263|R-HSA-8854518|\n",
      "|Reactome|Detoxification of...|ENSG00000290203|R-HSA-3299685|\n",
      "|Reactome|PRC2 methylates h...|ENSG00000288859| R-HSA-212300|\n",
      "|Reactome|   HCMV Early Events|ENSG00000288859|R-HSA-9609690|\n",
      "|Reactome|Inhibition of DNA...|ENSG00000288859|R-HSA-9670095|\n",
      "|Reactome|RUNX1 regulates t...|ENSG00000288859|R-HSA-8939236|\n",
      "|Reactome|DNA Damage/Telome...|ENSG00000288859|R-HSA-2559586|\n",
      "|Reactome|     DNA methylation|ENSG00000288859|R-HSA-5334118|\n",
      "|Reactome|Pre-NOTCH Transcr...|ENSG00000288859|R-HSA-1912408|\n",
      "+--------+--------------------+---------------+-------------+\n",
      "only showing top 20 rows\n",
      "\n"
     ]
    },
    {
     "name": "stderr",
     "output_type": "stream",
     "text": [
      "                                                                                \r"
     ]
    }
   ],
   "source": [
    "unionNew.filter(\n",
    "    (F.col(\"datasourceId\").isNotNull()) & (F.col(\"category\") == \"Reactome\")\n",
    ").sort(F.col(\"entityIds\").desc()).show()"
   ]
  },
  {
   "cell_type": "code",
   "execution_count": 51,
   "metadata": {},
   "outputs": [
    {
     "name": "stderr",
     "output_type": "stream",
     "text": [
      "                                                                                \r"
     ]
    }
   ],
   "source": [
    "unionNew.coalesce(1).write.format(\"json\").save(\n",
    "    \"gs://ot-team/jroldan/20240412_facetsTarget.json\"\n",
    ")"
   ]
  },
  {
   "cell_type": "markdown",
   "metadata": {},
   "source": [
    "#### 15.04.2024\n",
    "#### I need to groupby the file of facet targets by \n",
    "\n",
    "''' \n",
    "Good Morning Juan! I hope you had a nice weekend. When you get a moment, please could you update the target facet dataset in the same way that you did for diseases so that it also adheres to the same schema:\n",
    "Schema\n",
    " |-- category: string (nullable = true)\n",
    " |-- label: string (nullable = true)\n",
    " |-- entityIds: Array\n",
    " |-- datasourceId: string (nullable = true)\n",
    "I will make these changes in the api and then rebuild the data backend. Thank you very much!\n",
    "\n",
    "thanks Juan, no rush. I'm happy to have a call if you want to clarify anything. As the grouping is done on label + category there will be many target (entity) ids belonging to that group so we have the option to either express this as an array of ids or explode across many rows (duplicating label + category). We need to do the former i.e. label + category are uniquely represented and each label + category  record has an array of target ids (entityIds). This means that we can assign an identifier to the label + category group and use that identifier as a lookup to resolve down to target ids.\n",
    "'''"
   ]
  },
  {
   "cell_type": "code",
   "execution_count": 5,
   "metadata": {},
   "outputs": [],
   "source": [
    "unionNew2 = unionNew.groupBy(\"category\", \"label\", \"datasourceId\").agg(\n",
    "    F.collect_set(\"entityIds\").alias(\"entityIds\")\n",
    ")"
   ]
  },
  {
   "cell_type": "markdown",
   "metadata": {},
   "source": [
    "#### Checking 20.05.2024"
   ]
  },
  {
   "cell_type": "code",
   "execution_count": 6,
   "metadata": {},
   "outputs": [
    {
     "name": "stderr",
     "output_type": "stream",
     "text": [
      "[Stage 9:===================================================> (975 + 16) / 1000]\r"
     ]
    },
    {
     "name": "stdout",
     "output_type": "stream",
     "text": [
      "+-------------+--------------------+------------+--------------------+\n",
      "|     category|               label|datasourceId|           entityIds|\n",
      "+-------------+--------------------+------------+--------------------+\n",
      "|ChEMBL target|AGC protein kinas...|        null|   [ENSG00000122966]|\n",
      "|ChEMBL target|AGC protein kinas...|        null|[ENSG00000138669,...|\n",
      "|ChEMBL target|Atypical protein ...|        null|[ENSG00000119487,...|\n",
      "|ChEMBL target|Atypical protein ...|        null|[ENSG00000124784,...|\n",
      "|ChEMBL target|Atypical protein ...|        null|   [ENSG00000103319]|\n",
      "|ChEMBL target|Atypical protein ...|        null|[ENSG00000119487,...|\n",
      "|ChEMBL target|CAMK protein kina...|        null|   [ENSG00000130413]|\n",
      "|ChEMBL target|CK1 protein kinas...|        null|[ENSG00000133275,...|\n",
      "|ChEMBL target|CMGC protein kina...|        null|[ENSG00000112144,...|\n",
      "|ChEMBL target|CMGC protein kina...|        null|[ENSG00000102225,...|\n",
      "|ChEMBL target|CXC chemokine rec...|        null|[ENSG00000180871,...|\n",
      "|ChEMBL target|Calcium-activated...|        null|[ENSG00000145936,...|\n",
      "|ChEMBL target|Carboxylic acid r...|        null|[ENSG00000178623,...|\n",
      "|ChEMBL target|   Chemerin receptor|        null|   [ENSG00000174600]|\n",
      "|ChEMBL target|Cysteine protease...|        null|[ENSG00000105141,...|\n",
      "|ChEMBL target|Cysteine protease...|        null|[ENSG00000048028,...|\n",
      "|ChEMBL target| Cytochrome P450 4F2|        null|[ENSG00000198077,...|\n",
      "|ChEMBL target| Cytochrome P450 4X1|        null|   [ENSG00000186377]|\n",
      "|ChEMBL target|Cytochrome P450 f...|        null|[ENSG00000138061,...|\n",
      "|ChEMBL target|Cytochrome P450 f...|        null|   [ENSG00000231852]|\n",
      "+-------------+--------------------+------------+--------------------+\n",
      "only showing top 20 rows\n",
      "\n"
     ]
    },
    {
     "name": "stderr",
     "output_type": "stream",
     "text": [
      "                                                                                \r"
     ]
    }
   ],
   "source": [
    "unionNew2.show()"
   ]
  },
  {
   "cell_type": "code",
   "execution_count": 19,
   "metadata": {},
   "outputs": [
    {
     "name": "stderr",
     "output_type": "stream",
     "text": [
      "[Stage 142:================================================>  (947 + 16) / 1000]\r"
     ]
    },
    {
     "name": "stdout",
     "output_type": "stream",
     "text": [
      "+-------------+--------------------+------------+--------------------+\n",
      "|     category|               label|datasourceId|           entityIds|\n",
      "+-------------+--------------------+------------+--------------------+\n",
      "|ChEMBL target|AGC protein kinas...|        null|   [ENSG00000122966]|\n",
      "|ChEMBL target|AGC protein kinas...|        null|[ENSG00000138669,...|\n",
      "|ChEMBL target|Atypical protein ...|        null|[ENSG00000119487,...|\n",
      "|ChEMBL target|Atypical protein ...|        null|[ENSG00000124784,...|\n",
      "|ChEMBL target|Atypical protein ...|        null|   [ENSG00000103319]|\n",
      "|ChEMBL target|Atypical protein ...|        null|[ENSG00000119487,...|\n",
      "|ChEMBL target|CAMK protein kina...|        null|   [ENSG00000130413]|\n",
      "|ChEMBL target|CK1 protein kinas...|        null|[ENSG00000133275,...|\n",
      "|ChEMBL target|CMGC protein kina...|        null|[ENSG00000112144,...|\n",
      "|ChEMBL target|CMGC protein kina...|        null|[ENSG00000102225,...|\n",
      "|ChEMBL target|CXC chemokine rec...|        null|[ENSG00000180871,...|\n",
      "|ChEMBL target|Calcium-activated...|        null|[ENSG00000145936,...|\n",
      "|ChEMBL target|Carboxylic acid r...|        null|[ENSG00000178623,...|\n",
      "|ChEMBL target|   Chemerin receptor|        null|   [ENSG00000174600]|\n",
      "|ChEMBL target|Cysteine protease...|        null|[ENSG00000105141,...|\n",
      "|ChEMBL target|Cysteine protease...|        null|[ENSG00000048028,...|\n",
      "|ChEMBL target| Cytochrome P450 4F2|        null|[ENSG00000198077,...|\n",
      "|ChEMBL target| Cytochrome P450 4X1|        null|   [ENSG00000186377]|\n",
      "|ChEMBL target|Cytochrome P450 f...|        null|[ENSG00000138061,...|\n",
      "|ChEMBL target|Cytochrome P450 f...|        null|   [ENSG00000231852]|\n",
      "+-------------+--------------------+------------+--------------------+\n",
      "only showing top 20 rows\n",
      "\n"
     ]
    },
    {
     "name": "stderr",
     "output_type": "stream",
     "text": [
      "                                                                                \r"
     ]
    }
   ],
   "source": [
    "unionNew2.show()"
   ]
  },
  {
   "cell_type": "code",
   "execution_count": 11,
   "metadata": {},
   "outputs": [
    {
     "name": "stderr",
     "output_type": "stream",
     "text": [
      "[Stage 93:==================================================>  (961 + 8) / 1000]\r"
     ]
    },
    {
     "name": "stdout",
     "output_type": "stream",
     "text": [
      "+--------------------------+-----+\n",
      "|category                  |count|\n",
      "+--------------------------+-----+\n",
      "|GO:CC                     |1823 |\n",
      "|ChEMBL target             |720  |\n",
      "|GO:MF                     |4673 |\n",
      "|HPA_main                  |34   |\n",
      "|GO:BP                     |12232|\n",
      "|Reactome                  |2141 |\n",
      "|uniprot                   |785  |\n",
      "|approvedSymbol            |61619|\n",
      "|HPA_additional            |35   |\n",
      "|HPA_extracellular_location|1    |\n",
      "+--------------------------+-----+\n",
      "\n"
     ]
    },
    {
     "name": "stderr",
     "output_type": "stream",
     "text": [
      "                                                                                \r"
     ]
    }
   ],
   "source": [
    "#### checking on 20.05.2024:\n",
    "unionNew2.filter(F.col(\"category\").isNotNull()).groupBy(\"category\").count().show(\n",
    "    20, truncate=False\n",
    ")"
   ]
  },
  {
   "cell_type": "code",
   "execution_count": 20,
   "metadata": {},
   "outputs": [
    {
     "name": "stderr",
     "output_type": "stream",
     "text": [
      "[Stage 155:================================================>  (953 + 16) / 1000]\r"
     ]
    },
    {
     "name": "stdout",
     "output_type": "stream",
     "text": [
      "+--------------+-----+\n",
      "|category      |count|\n",
      "+--------------+-----+\n",
      "|GO:CC         |1823 |\n",
      "|GO:MF         |4673 |\n",
      "|HPA_main      |31   |\n",
      "|GO:BP         |12232|\n",
      "|Reactome      |2140 |\n",
      "|uniprot       |785  |\n",
      "|HPA_additional|32   |\n",
      "+--------------+-----+\n",
      "\n"
     ]
    },
    {
     "name": "stderr",
     "output_type": "stream",
     "text": [
      "                                                                                \r"
     ]
    }
   ],
   "source": [
    "unionNew2.filter(F.col(\"datasourceId\").isNotNull()).groupBy(\"category\").count().show(\n",
    "    20, truncate=False\n",
    ")"
   ]
  },
  {
   "cell_type": "markdown",
   "metadata": {},
   "source": [
    "#### Checking 20.05.2024"
   ]
  },
  {
   "cell_type": "code",
   "execution_count": null,
   "metadata": {},
   "outputs": [],
   "source": []
  },
  {
   "cell_type": "code",
   "execution_count": 18,
   "metadata": {},
   "outputs": [
    {
     "name": "stderr",
     "output_type": "stream",
     "text": [
      "                                                                                \r"
     ]
    }
   ],
   "source": [
    "unionNew2.coalesce(1).write.format(\"json\").save(\n",
    "    \"gs://ot-team/jroldan/20240415_facetsTarget.json\"\n",
    ")"
   ]
  },
  {
   "cell_type": "markdown",
   "metadata": {},
   "source": [
    "### Diseases"
   ]
  },
  {
   "cell_type": "code",
   "execution_count": 12,
   "metadata": {},
   "outputs": [],
   "source": [
    "diseases = (\n",
    "    diseases_all.selectExpr(\"id\", \"name as categoryLabel\")\n",
    "    .withColumn(\"diseaseId\", F.array(F.col(\"id\")))\n",
    "    .withColumn(\"categoryType\", F.lit(\"disease\"))\n",
    "    .select(\"diseaseId\", \"categoryType\", \"categoryLabel\")\n",
    "    .withColumn(\"categoryId\", F.col(\"diseaseId\"))\n",
    "    .drop(\"id\")\n",
    ")"
   ]
  },
  {
   "cell_type": "markdown",
   "metadata": {},
   "source": [
    "### Therapeutic Areas"
   ]
  },
  {
   "cell_type": "code",
   "execution_count": 13,
   "metadata": {},
   "outputs": [],
   "source": [
    "therapeuticAreas = (\n",
    "    diseases_all.withColumn(\"therapyAreas\", F.explode_outer(\"therapeuticAreas\"))\n",
    "    .groupBy(\"therapyAreas\")\n",
    "    .agg(F.collect_set(\"id\").alias(\"diseaseId\"))\n",
    "    .join(\n",
    "        diseases_all.select(\"id\", \"name\"),\n",
    "        F.col(\"therapyAreas\") == diseases_all.id,\n",
    "        \"left\",\n",
    "    )\n",
    "    .withColumn(\"categoryId\", F.array(F.col(\"id\")))\n",
    "    .drop(\"id\")\n",
    "    .withColumnRenamed(\"name\", \"categoryLabel\")\n",
    "    .withColumn(\"categoryType\", F.lit(\"therapeutic area\"))\n",
    "    .drop(\"therapyAreas\")\n",
    "    .select(*diseases.columns)\n",
    ")"
   ]
  },
  {
   "cell_type": "markdown",
   "metadata": {},
   "source": [
    "### write disease/therapeutic areas facets"
   ]
  },
  {
   "cell_type": "code",
   "execution_count": 14,
   "metadata": {},
   "outputs": [],
   "source": [
    "diseasesFacets = therapeuticAreas.union(diseases).persist()"
   ]
  },
  {
   "cell_type": "code",
   "execution_count": null,
   "metadata": {},
   "outputs": [],
   "source": [
    "diseasesFacets.coalesce(1).write.format(\"json\").save(\n",
    "    \"gs://ot-team/jroldan/facetsDiseases.json\"\n",
    ")"
   ]
  },
  {
   "cell_type": "code",
   "execution_count": null,
   "metadata": {},
   "outputs": [],
   "source": [
    "diseasesFacets.selectExpr(\n",
    "    \"diseaseId as entityIds\",\n",
    "    \"categoryType as category\",\n",
    "    \"categoryLabel as label\",\n",
    "    \"categoryId as datasourceId\",\n",
    ")"
   ]
  },
  {
   "cell_type": "markdown",
   "metadata": {},
   "source": [
    "#### Changes on 12.04.2024\n",
    "## everything in the same schema as the target facets \n",
    "##### \"diseaseId\" -> \"entityIds\"\n",
    "##### \"categoryType\" -> \"category\"\n",
    "##### \"categoryLabel\" -> \"label\"\n",
    "##### \"categoryId\" -> \"datasourceId\""
   ]
  },
  {
   "cell_type": "code",
   "execution_count": 67,
   "metadata": {},
   "outputs": [
    {
     "name": "stdout",
     "output_type": "stream",
     "text": [
      "+--------------+-----+\n",
      "|categoryIdSize|count|\n",
      "+--------------+-----+\n",
      "|             1|25843|\n",
      "+--------------+-----+\n",
      "\n"
     ]
    }
   ],
   "source": [
    "diseasesFacets.withColumn(\"diseaseSize\", F.size(\"diseaseId\")).withColumn(\n",
    "    \"categoryIdSize\", F.size(\"categoryId\")\n",
    ").groupBy(\"categoryIdSize\").count().sort(F.col(\"categoryIdSize\")).show()"
   ]
  },
  {
   "cell_type": "code",
   "execution_count": 15,
   "metadata": {},
   "outputs": [
    {
     "name": "stderr",
     "output_type": "stream",
     "text": [
      "24/05/20 15:53:55 WARN CacheManager: Asked to cache already cached data.\n"
     ]
    }
   ],
   "source": [
    "diseases = (\n",
    "    diseases_all.selectExpr(\"id\", \"name as categoryLabel\")\n",
    "    .withColumn(\"diseaseId\", F.col(\"id\"))  ## change as null instead of array of same Id\n",
    "    .withColumn(\"categoryType\", F.lit(\"disease\"))\n",
    "    .select(\"diseaseId\", \"categoryType\", \"categoryLabel\")\n",
    "    .withColumn(\"categoryId\", F.col(\"diseaseId\"))\n",
    "    .drop(\"id\")\n",
    ")\n",
    "\n",
    "therapeuticAreas = (\n",
    "    diseases_all.withColumn(\"therapyAreas\", F.explode_outer(\"therapeuticAreas\"))\n",
    "    .selectExpr(\"therapyAreas as categoryId\", \"id as diseaseId\")\n",
    "    .join(\n",
    "        diseases_all.select(\"id\", \"name\"),\n",
    "        F.col(\"categoryId\") == diseases_all.id,\n",
    "        \"left\",\n",
    "    )\n",
    "    .drop(\"id\")\n",
    "    .withColumnRenamed(\"name\", \"categoryLabel\")\n",
    "    .withColumn(\"categoryType\", F.lit(\"therapeutic area\"))\n",
    "    .select(*diseases.columns)\n",
    ")\n",
    "\n",
    "diseasesFacets = (\n",
    "    therapeuticAreas.union(diseases)\n",
    "    .selectExpr(\n",
    "        \"diseaseId as entityIds\",\n",
    "        \"categoryType as category\",\n",
    "        \"categoryLabel as label\",\n",
    "        \"categoryId as datasourceId\",\n",
    "    )\n",
    "    .persist()\n",
    ")"
   ]
  },
  {
   "cell_type": "code",
   "execution_count": 103,
   "metadata": {},
   "outputs": [
    {
     "name": "stderr",
     "output_type": "stream",
     "text": [
      "                                                                                \r"
     ]
    }
   ],
   "source": [
    "diseasesFacets.coalesce(1).write.format(\"json\").save(\n",
    "    \"gs://ot-team/jroldan/20240412_facetsDiseases.json\"\n",
    ")"
   ]
  },
  {
   "cell_type": "markdown",
   "metadata": {},
   "source": [
    "#### New iteration with James: \n",
    "    #### entityIds should not be exploded across rows, they should be arrays, where the grouping is on category + label. \n"
   ]
  },
  {
   "cell_type": "code",
   "execution_count": 16,
   "metadata": {},
   "outputs": [],
   "source": [
    "diseasesFacetsV2 = diseasesFacets.groupBy(\"category\", \"label\", \"datasourceId\").agg(\n",
    "    F.collect_set(F.col(\"entityIds\")).alias(\"entityIds\")\n",
    ")"
   ]
  },
  {
   "cell_type": "code",
   "execution_count": 119,
   "metadata": {},
   "outputs": [
    {
     "name": "stdout",
     "output_type": "stream",
     "text": [
      "root\n",
      " |-- category: string (nullable = false)\n",
      " |-- label: string (nullable = true)\n",
      " |-- datasourceId: string (nullable = true)\n",
      " |-- entityIds: array (nullable = false)\n",
      " |    |-- element: string (containsNull = false)\n",
      "\n"
     ]
    }
   ],
   "source": [
    "diseasesFacetsV2.printSchema()"
   ]
  },
  {
   "cell_type": "code",
   "execution_count": 118,
   "metadata": {},
   "outputs": [
    {
     "name": "stderr",
     "output_type": "stream",
     "text": [
      "                                                                                \r"
     ]
    }
   ],
   "source": [
    "diseasesFacetsV2.coalesce(1).write.format(\"json\").save(\n",
    "    \"gs://ot-team/jroldan/20240412_facetsDiseasesV2.json\"\n",
    ")"
   ]
  },
  {
   "cell_type": "markdown",
   "metadata": {},
   "source": [
    "#### checking on 20.05.2024"
   ]
  },
  {
   "cell_type": "code",
   "execution_count": 18,
   "metadata": {},
   "outputs": [
    {
     "name": "stderr",
     "output_type": "stream",
     "text": [
      "[Stage 131:============================================>          (26 + 6) / 32]\r"
     ]
    },
    {
     "name": "stdout",
     "output_type": "stream",
     "text": [
      "+----------------+-----+\n",
      "|        category|count|\n",
      "+----------------+-----+\n",
      "|therapeutic area|   26|\n",
      "|         disease|25817|\n",
      "+----------------+-----+\n",
      "\n"
     ]
    },
    {
     "name": "stderr",
     "output_type": "stream",
     "text": [
      "                                                                                \r"
     ]
    }
   ],
   "source": [
    "diseasesFacetsV2.groupBy(\"category\").count().show()"
   ]
  },
  {
   "cell_type": "markdown",
   "metadata": {},
   "source": [
    "#### 15.07.2024\n",
    "#### create the dataset for tissue specificity and distribution"
   ]
  },
  {
   "cell_type": "code",
   "execution_count": null,
   "metadata": {},
   "outputs": [],
   "source": []
  },
  {
   "cell_type": "code",
   "execution_count": null,
   "metadata": {},
   "outputs": [],
   "source": [
    "### 2nd version:\n",
    "### changes:\n",
    "# when datasource == approvedsymbol, facetsId == null\n",
    "\n",
    "column_order = [\"targetId\", \"categoryType\", \"categoryLabel\", \"categoryId\"]\n",
    "\n",
    "##approvedSymbol\n",
    "approvedSymbol = (\n",
    "    target.select(F.col(\"id\").alias(\"targetId\"), \"approvedSymbol\")\n",
    "    .withColumn(\"categoryType\", F.lit(\"approvedSymbol\"))\n",
    "    .withColumn(\"categoryId\", F.lit(None))  ### changed it 12.04.2024\n",
    "    .withColumnRenamed(\"approvedSymbol\", \"categoryLabel\")\n",
    "    .distinct()\n",
    "    .persist()\n",
    "    .select(*column_order)\n",
    ")\n",
    "## go\n",
    "go_terms = (\n",
    "    target.select(F.col(\"id\").alias(\"targetId\"), F.explode_outer(F.col(\"go\")))\n",
    "    .select(\"targetId\", \"col.*\")\n",
    "    .join(go, on=\"id\", how=\"left\")\n",
    "    .withColumn(\n",
    "        \"categoryType\",\n",
    "        F.when(F.col(\"aspect\") == \"F\", F.concat(F.lit(\"GO:\"), F.lit(\"MF\")))\n",
    "        .when(F.col(\"aspect\") == \"P\", F.concat(F.lit(\"GO:\"), F.lit(\"BP\")))\n",
    "        .when(F.col(\"aspect\") == \"C\", F.concat(F.lit(\"GO:\"), F.lit(\"CC\"))),\n",
    "    )\n",
    "    .withColumn(\"categoryLabel\", F.col(\"name\"))\n",
    "    .drop(\"name\")\n",
    "    .withColumn(\"categoryId\", F.col(\"id\"))\n",
    "    .select(\"targetId\", \"categoryType\", \"categoryLabel\", \"categoryId\")\n",
    "    .distinct()\n",
    "    .select(*column_order)\n",
    ").persist()\n",
    "\n",
    "## location\n",
    "location = (\n",
    "    target.select(\n",
    "        F.col(\"id\").alias(\"targetId\"),\n",
    "        F.transform(\n",
    "            \"subcellularLocations\",\n",
    "            lambda x: F.struct(\n",
    "                x.location.alias(\"categoryLabel\"),\n",
    "                x.termSL.alias(\"categoryId\"),\n",
    "                x.source.alias(\"categoryType\"),\n",
    "            ),\n",
    "        ).alias(\"subcellularLocation\"),\n",
    "    )\n",
    "    .select(\"targetId\", F.explode_outer(F.col(\"subcellularLocation\")))\n",
    "    .select(\"targetId\", \"col.*\")\n",
    "    .distinct()\n",
    "    .select(*column_order)\n",
    ").persist()\n",
    "\n",
    "## targetClass\n",
    "targetClass = (\n",
    "    target.select(F.col(\"id\").alias(\"targetId\"), \"targetClass\")\n",
    "    .filter(F.col(\"targetClass\").isNotNull())\n",
    "    .select(\"targetId\", F.explode_outer(F.col(\"targetClass\")))\n",
    "    .select(\"targetId\", \"col.*\")\n",
    "    .withColumn(\"categoryType\", F.lit(\"ChEMBL target\"))\n",
    "    .withColumn(\"categoryId\", F.lit(None))\n",
    "    .drop(\"id\", \"level\")\n",
    "    .withColumnRenamed(\"label\", \"categoryLabel\")\n",
    "    .distinct()\n",
    "    .select(*column_order)\n",
    "    .persist()\n",
    ")\n",
    "## pathways\n",
    "pathways = (\n",
    "    target.select(\n",
    "        F.col(\"id\").alias(\"targetId\"),\n",
    "        F.transform(\n",
    "            \"pathways\",\n",
    "            lambda x: F.struct(\n",
    "                x.pathway.alias(\"categoryLabel\"),\n",
    "                x.pathwayId.alias(\"categoryId\"),\n",
    "                # x.topLevelTerm.alias(\"categoryType\"),\n",
    "            ),\n",
    "        ).alias(\"more\"),\n",
    "    )\n",
    "    .select(\"targetId\", F.explode_outer(F.col(\"more\")))\n",
    "    .select(\"targetId\", \"col.*\")\n",
    "    .withColumn(\"categoryType\", F.lit(\"Reactome\"))\n",
    "    .distinct()\n",
    "    .select(*column_order)\n",
    "    .persist()\n",
    ")\n",
    "## union of everything\n",
    "union = (\n",
    "    (approvedSymbol.union(go_terms).union(location).union(targetClass).union(pathways))\n",
    "    .filter(F.col(\"targetId\").isNotNull())\n",
    "    .persist()\n",
    ")\n",
    "\n",
    "### with used names:\n",
    "\n",
    "unionNew = union.selectExpr(\n",
    "    \"categoryType as category\",\n",
    "    \"categoryLabel as label\",\n",
    "    \"targetId as entityIds\",\n",
    "    \"categoryId as datasourceId\",\n",
    ")"
   ]
  },
  {
   "cell_type": "code",
   "execution_count": 6,
   "metadata": {},
   "outputs": [],
   "source": [
    "queryset = target.select(\"id\").withColumnRenamed(\"id\", \"targetid\")\n",
    "hpa_data = \"gs://ot-team/jroldan/hpa_data2/proteinatlas_file.json\""
   ]
  },
  {
   "cell_type": "code",
   "execution_count": 12,
   "metadata": {},
   "outputs": [
    {
     "name": "stdout",
     "output_type": "stream",
     "text": [
      "Defaulting to user installation because normal site-packages is not writeable\n",
      "Requirement already satisfied: gcsfs in /opt/conda/miniconda3/lib/python3.10/site-packages (2022.8.2)\n",
      "Requirement already satisfied: google-auth>=1.2 in /opt/conda/miniconda3/lib/python3.10/site-packages (from gcsfs) (2.22.0)\n",
      "Requirement already satisfied: google-auth-oauthlib in /opt/conda/miniconda3/lib/python3.10/site-packages (from gcsfs) (0.5.3)\n",
      "Requirement already satisfied: google-cloud-storage in /opt/conda/miniconda3/lib/python3.10/site-packages (from gcsfs) (2.5.0)\n",
      "Requirement already satisfied: requests in /opt/conda/miniconda3/lib/python3.10/site-packages (from gcsfs) (2.28.2)\n",
      "Requirement already satisfied: decorator>4.1.2 in /opt/conda/miniconda3/lib/python3.10/site-packages (from gcsfs) (5.1.1)\n",
      "Requirement already satisfied: fsspec==2022.8.2 in /opt/conda/miniconda3/lib/python3.10/site-packages (from gcsfs) (2022.8.2)\n",
      "Requirement already satisfied: aiohttp!=4.0.0a0,!=4.0.0a1 in /opt/conda/miniconda3/lib/python3.10/site-packages (from gcsfs) (3.8.5)\n",
      "Requirement already satisfied: attrs>=17.3.0 in /opt/conda/miniconda3/lib/python3.10/site-packages (from aiohttp!=4.0.0a0,!=4.0.0a1->gcsfs) (23.1.0)\n",
      "Requirement already satisfied: charset-normalizer<4.0,>=2.0 in /opt/conda/miniconda3/lib/python3.10/site-packages (from aiohttp!=4.0.0a0,!=4.0.0a1->gcsfs) (3.2.0)\n",
      "Requirement already satisfied: multidict<7.0,>=4.5 in /opt/conda/miniconda3/lib/python3.10/site-packages (from aiohttp!=4.0.0a0,!=4.0.0a1->gcsfs) (6.0.4)\n",
      "Requirement already satisfied: async-timeout<5.0,>=4.0.0a3 in /opt/conda/miniconda3/lib/python3.10/site-packages (from aiohttp!=4.0.0a0,!=4.0.0a1->gcsfs) (4.0.3)\n",
      "Requirement already satisfied: yarl<2.0,>=1.0 in /opt/conda/miniconda3/lib/python3.10/site-packages (from aiohttp!=4.0.0a0,!=4.0.0a1->gcsfs) (1.9.2)\n",
      "Requirement already satisfied: frozenlist>=1.1.1 in /opt/conda/miniconda3/lib/python3.10/site-packages (from aiohttp!=4.0.0a0,!=4.0.0a1->gcsfs) (1.4.0)\n",
      "Requirement already satisfied: aiosignal>=1.1.2 in /opt/conda/miniconda3/lib/python3.10/site-packages (from aiohttp!=4.0.0a0,!=4.0.0a1->gcsfs) (1.3.1)\n",
      "Requirement already satisfied: cachetools<6.0,>=2.0.0 in /opt/conda/miniconda3/lib/python3.10/site-packages (from google-auth>=1.2->gcsfs) (5.3.1)\n",
      "Requirement already satisfied: pyasn1-modules>=0.2.1 in /opt/conda/miniconda3/lib/python3.10/site-packages (from google-auth>=1.2->gcsfs) (0.2.7)\n",
      "Requirement already satisfied: rsa<5,>=3.1.4 in /opt/conda/miniconda3/lib/python3.10/site-packages (from google-auth>=1.2->gcsfs) (4.9)\n",
      "Requirement already satisfied: six>=1.9.0 in /opt/conda/miniconda3/lib/python3.10/site-packages (from google-auth>=1.2->gcsfs) (1.16.0)\n",
      "Requirement already satisfied: urllib3<2.0 in /opt/conda/miniconda3/lib/python3.10/site-packages (from google-auth>=1.2->gcsfs) (1.26.15)\n",
      "Requirement already satisfied: requests-oauthlib>=0.7.0 in /opt/conda/miniconda3/lib/python3.10/site-packages (from google-auth-oauthlib->gcsfs) (1.3.1)\n",
      "Requirement already satisfied: google-api-core!=2.0.*,!=2.1.*,!=2.2.*,!=2.3.0,<3.0.0dev,>=1.31.5 in /opt/conda/miniconda3/lib/python3.10/site-packages (from google-cloud-storage->gcsfs) (2.11.1)\n",
      "Requirement already satisfied: google-cloud-core<3.0dev,>=2.3.0 in /opt/conda/miniconda3/lib/python3.10/site-packages (from google-cloud-storage->gcsfs) (2.3.3)\n",
      "Requirement already satisfied: google-resumable-media>=2.3.2 in /opt/conda/miniconda3/lib/python3.10/site-packages (from google-cloud-storage->gcsfs) (2.5.0)\n",
      "Requirement already satisfied: idna<4,>=2.5 in /opt/conda/miniconda3/lib/python3.10/site-packages (from requests->gcsfs) (3.4)\n",
      "Requirement already satisfied: certifi>=2017.4.17 in /opt/conda/miniconda3/lib/python3.10/site-packages (from requests->gcsfs) (2023.7.22)\n",
      "Requirement already satisfied: googleapis-common-protos<2.0.dev0,>=1.56.2 in /opt/conda/miniconda3/lib/python3.10/site-packages (from google-api-core!=2.0.*,!=2.1.*,!=2.2.*,!=2.3.0,<3.0.0dev,>=1.31.5->google-cloud-storage->gcsfs) (1.60.0)\n",
      "Requirement already satisfied: protobuf!=3.20.0,!=3.20.1,!=4.21.0,!=4.21.1,!=4.21.2,!=4.21.3,!=4.21.4,!=4.21.5,<5.0.0.dev0,>=3.19.5 in /opt/conda/miniconda3/lib/python3.10/site-packages (from google-api-core!=2.0.*,!=2.1.*,!=2.2.*,!=2.3.0,<3.0.0dev,>=1.31.5->google-cloud-storage->gcsfs) (4.21.12)\n",
      "Requirement already satisfied: google-crc32c<2.0dev,>=1.0 in /opt/conda/miniconda3/lib/python3.10/site-packages (from google-resumable-media>=2.3.2->google-cloud-storage->gcsfs) (1.1.2)\n",
      "Requirement already satisfied: pyasn1<0.5.0,>=0.4.6 in /opt/conda/miniconda3/lib/python3.10/site-packages (from pyasn1-modules>=0.2.1->google-auth>=1.2->gcsfs) (0.4.8)\n",
      "Requirement already satisfied: oauthlib>=3.0.0 in /opt/conda/miniconda3/lib/python3.10/site-packages (from requests-oauthlib>=0.7.0->google-auth-oauthlib->gcsfs) (3.2.2)\n",
      "Requirement already satisfied: cffi>=1.0.0 in /opt/conda/miniconda3/lib/python3.10/site-packages (from google-crc32c<2.0dev,>=1.0->google-resumable-media>=2.3.2->google-cloud-storage->gcsfs) (1.15.1)\n",
      "Requirement already satisfied: pycparser in /opt/conda/miniconda3/lib/python3.10/site-packages (from cffi>=1.0.0->google-crc32c<2.0dev,>=1.0->google-resumable-media>=2.3.2->google-cloud-storage->gcsfs) (2.21)\n"
     ]
    }
   ],
   "source": [
    "# Install gcsfs if not already installed\n",
    "import sys\n",
    "!{sys.executable} -m pip install gcsfs\n",
    "\n",
    "import pandas as pd\n",
    "import json\n",
    "import gcsfs\n",
    "\n",
    "\n",
    "def tissue_specific(hpa_data, queryset):\n",
    "    cols_of_interest = [\n",
    "        \"Ensembl\",\n",
    "        \"RNA tissue distribution\",\n",
    "        \"RNA tissue specificity\",\n",
    "        \"Antibody\",\n",
    "    ]\n",
    "\n",
    "    fs = gcsfs.GCSFileSystem()\n",
    "    with fs.open(hpa_data, \"r\") as f:\n",
    "        data = json.load(f)  # Assuming the JSON file contains a single JSON object\n",
    "\n",
    "    df = pd.DataFrame(data).filter(items=cols_of_interest)\n",
    "    hpa_df = spark.createDataFrame(df)\n",
    "\n",
    "    return hpa_df\n",
    "\n",
    "\n",
    "testing = tissue_specific(hpa_data, queryset)"
   ]
  },
  {
   "cell_type": "code",
   "execution_count": 16,
   "metadata": {},
   "outputs": [
    {
     "name": "stderr",
     "output_type": "stream",
     "text": [
      "24/07/15 20:54:02 WARN CacheManager: Asked to cache already cached data.\n"
     ]
    }
   ],
   "source": [
    "column_order = [\"targetId\", \"categoryType\", \"categoryLabel\", \"categoryId\"]\n",
    "\n",
    "##approvedSymbol\n",
    "approvedSymbol = (\n",
    "    target.select(F.col(\"id\").alias(\"targetId\"), \"approvedSymbol\")\n",
    "    .withColumn(\"categoryType\", F.lit(\"approvedSymbol\"))\n",
    "    .withColumn(\"categoryId\", F.lit(None))  ### changed it 12.04.2024\n",
    "    .withColumnRenamed(\"approvedSymbol\", \"categoryLabel\")\n",
    "    .distinct()\n",
    "    .persist()\n",
    "    .select(*column_order)\n",
    ")"
   ]
  },
  {
   "cell_type": "code",
   "execution_count": 32,
   "metadata": {},
   "outputs": [],
   "source": [
    "tissueSpecificity = (\n",
    "    testing.withColumnRenamed(\"Ensembl\", \"targetId\")\n",
    "    .withColumn(\"categoryType\", F.lit(\"tissueSpecificity\"))\n",
    "    .withColumn(\"categoryLabel\", F.lit(F.col(\"RNA tissue specificity\")))\n",
    "    .withColumn(\"categoryId\", F.lit(None))\n",
    "    .select(*column_order)\n",
    ")\n",
    "tissueDistribution = (\n",
    "    testing.withColumnRenamed(\"Ensembl\", \"targetId\")\n",
    "    .withColumn(\"categoryType\", F.lit(\"tissueDistribution\"))\n",
    "    .withColumn(\"categoryLabel\", F.lit(F.col(\"RNA tissue distribution\")))\n",
    "    .withColumn(\"categoryId\", F.lit(None))\n",
    "    .select(*column_order)\n",
    ")"
   ]
  },
  {
   "cell_type": "code",
   "execution_count": null,
   "metadata": {},
   "outputs": [],
   "source": [
    "### testing gist to James:"
   ]
  },
  {
   "cell_type": "code",
   "execution_count": 2,
   "metadata": {},
   "outputs": [
    {
     "name": "stderr",
     "output_type": "stream",
     "text": [
      "24/04/19 07:28:57 WARN YarnScheduler: Initial job has not accepted any resources; check your cluster UI to ensure that workers are registered and have sufficient resources\n",
      "24/04/19 07:29:12 WARN YarnScheduler: Initial job has not accepted any resources; check your cluster UI to ensure that workers are registered and have sufficient resources\n",
      "24/04/19 07:29:27 WARN YarnScheduler: Initial job has not accepted any resources; check your cluster UI to ensure that workers are registered and have sufficient resources\n",
      "24/04/19 07:29:42 WARN YarnScheduler: Initial job has not accepted any resources; check your cluster UI to ensure that workers are registered and have sufficient resources\n",
      "24/04/19 07:29:57 WARN YarnScheduler: Initial job has not accepted any resources; check your cluster UI to ensure that workers are registered and have sufficient resources\n",
      "24/04/19 07:30:12 WARN YarnScheduler: Initial job has not accepted any resources; check your cluster UI to ensure that workers are registered and have sufficient resources\n",
      "24/04/19 07:30:27 WARN YarnScheduler: Initial job has not accepted any resources; check your cluster UI to ensure that workers are registered and have sufficient resources\n",
      "24/04/19 07:30:42 WARN YarnScheduler: Initial job has not accepted any resources; check your cluster UI to ensure that workers are registered and have sufficient resources\n",
      "24/04/19 07:30:57 WARN YarnScheduler: Initial job has not accepted any resources; check your cluster UI to ensure that workers are registered and have sufficient resources\n",
      "24/04/19 07:31:12 WARN YarnScheduler: Initial job has not accepted any resources; check your cluster UI to ensure that workers are registered and have sufficient resources\n",
      "24/04/19 07:31:27 WARN YarnScheduler: Initial job has not accepted any resources; check your cluster UI to ensure that workers are registered and have sufficient resources\n",
      "                                                                                \r"
     ]
    }
   ],
   "source": [
    "### load datasets\n",
    "\n",
    "target_path = \"gs://open-targets-data-releases/24.03/output/etl/parquet/targets/\"\n",
    "target = spark.read.parquet(target_path)\n",
    "go = spark.read.parquet(\"gs://open-targets-data-releases/24.03/output/etl/parquet/go\")\n",
    "diseases_all = spark.read.parquet(\n",
    "    \"gs://open-targets-data-releases/24.03/output/etl/parquet/diseases/\"\n",
    ")\n",
    "\n",
    "#### Target Facets\n",
    "\n",
    "column_order = [\"targetId\", \"categoryType\", \"categoryLabel\", \"categoryId\"]\n",
    "\n",
    "##approvedSymbol\n",
    "approvedSymbol = (\n",
    "    target.select(F.col(\"id\").alias(\"targetId\"), \"approvedSymbol\")\n",
    "    .withColumn(\"categoryType\", F.lit(\"approvedSymbol\"))\n",
    "    .withColumn(\"categoryId\", F.lit(None))  ### changed it 12.04.2024\n",
    "    .withColumnRenamed(\"approvedSymbol\", \"categoryLabel\")\n",
    "    .distinct()\n",
    "    .persist()\n",
    "    .select(*column_order)\n",
    ")\n",
    "## go\n",
    "go_terms = (\n",
    "    target.select(F.col(\"id\").alias(\"targetId\"), F.explode_outer(F.col(\"go\")))\n",
    "    .select(\"targetId\", \"col.*\")\n",
    "    .join(go, on=\"id\", how=\"left\")\n",
    "    .withColumn(\n",
    "        \"categoryType\",\n",
    "        F.when(F.col(\"aspect\") == \"F\", F.concat(F.lit(\"GO:\"), F.lit(\"MF\")))\n",
    "        .when(F.col(\"aspect\") == \"P\", F.concat(F.lit(\"GO:\"), F.lit(\"BP\")))\n",
    "        .when(F.col(\"aspect\") == \"C\", F.concat(F.lit(\"GO:\"), F.lit(\"CC\"))),\n",
    "    )\n",
    "    .withColumn(\"categoryLabel\", F.col(\"name\"))\n",
    "    .drop(\"name\")\n",
    "    .withColumn(\"categoryId\", F.col(\"id\"))\n",
    "    .select(\"targetId\", \"categoryType\", \"categoryLabel\", \"categoryId\")\n",
    "    .distinct()\n",
    "    .select(*column_order)\n",
    ").persist()\n",
    "\n",
    "## location\n",
    "location = (\n",
    "    target.select(\n",
    "        F.col(\"id\").alias(\"targetId\"),\n",
    "        F.transform(\n",
    "            \"subcellularLocations\",\n",
    "            lambda x: F.struct(\n",
    "                x.location.alias(\"categoryLabel\"),\n",
    "                x.termSL.alias(\"categoryId\"),\n",
    "                x.source.alias(\"categoryType\"),\n",
    "            ),\n",
    "        ).alias(\"subcellularLocation\"),\n",
    "    )\n",
    "    .select(\"targetId\", F.explode_outer(F.col(\"subcellularLocation\")))\n",
    "    .select(\"targetId\", \"col.*\")\n",
    "    .distinct()\n",
    "    .select(*column_order)\n",
    ").persist()\n",
    "\n",
    "## targetClass\n",
    "targetClass = (\n",
    "    target.select(F.col(\"id\").alias(\"targetId\"), \"targetClass\")\n",
    "    .filter(F.col(\"targetClass\").isNotNull())\n",
    "    .select(\"targetId\", F.explode_outer(F.col(\"targetClass\")))\n",
    "    .select(\"targetId\", \"col.*\")\n",
    "    .withColumn(\"categoryType\", F.lit(\"ChEMBL target\"))\n",
    "    .withColumn(\"categoryId\", F.lit(None))\n",
    "    .drop(\"id\", \"level\")\n",
    "    .withColumnRenamed(\"label\", \"categoryLabel\")\n",
    "    .distinct()\n",
    "    .select(*column_order)\n",
    "    .persist()\n",
    ")\n",
    "## pathways\n",
    "pathways = (\n",
    "    target.select(\n",
    "        F.col(\"id\").alias(\"targetId\"),\n",
    "        F.transform(\n",
    "            \"pathways\",\n",
    "            lambda x: F.struct(\n",
    "                x.pathway.alias(\"categoryLabel\"),\n",
    "                x.pathwayId.alias(\"categoryId\"),\n",
    "                # x.topLevelTerm.alias(\"categoryType\"),\n",
    "            ),\n",
    "        ).alias(\"more\"),\n",
    "    )\n",
    "    .select(\"targetId\", F.explode_outer(F.col(\"more\")))\n",
    "    .select(\"targetId\", \"col.*\")\n",
    "    .withColumn(\"categoryType\", F.lit(\"Reactome\"))\n",
    "    .distinct()\n",
    "    .select(*column_order)\n",
    "    .persist()\n",
    ")\n",
    "## union of everything\n",
    "union = (\n",
    "    (approvedSymbol.union(go_terms).union(location).union(targetClass).union(pathways))\n",
    "    .filter(F.col(\"targetId\").isNotNull())\n",
    "    .persist()\n",
    ")\n",
    "\n",
    "### with good names and format:\n",
    "\n",
    "targetFacets = (\n",
    "    union.selectExpr(\n",
    "        \"categoryType as category\",\n",
    "        \"categoryLabel as label\",\n",
    "        \"targetId as entityIds\",\n",
    "        \"categoryId as datasourceId\",\n",
    "    )\n",
    "    .groupBy(\"category\", \"label\", \"datasourceId\")\n",
    "    .agg(F.collect_set(\"entityIds\").alias(\"entityIds\"))\n",
    ")\n",
    "\n",
    "## Disease & Ther Area facets\n",
    "\n",
    "diseases = (\n",
    "    diseases_all.selectExpr(\"id\", \"name as categoryLabel\")\n",
    "    .withColumn(\"diseaseId\", F.col(\"id\"))  ## change as null instead of array of same Id\n",
    "    .withColumn(\"categoryType\", F.lit(\"disease\"))\n",
    "    .select(\"diseaseId\", \"categoryType\", \"categoryLabel\")\n",
    "    .withColumn(\"categoryId\", F.col(\"diseaseId\"))\n",
    "    .drop(\"id\")\n",
    ")\n",
    "\n",
    "therapeuticAreas = (\n",
    "    diseases_all.withColumn(\"therapyAreas\", F.explode_outer(\"therapeuticAreas\"))\n",
    "    .selectExpr(\"therapyAreas as categoryId\", \"id as diseaseId\")\n",
    "    .join(\n",
    "        diseases_all.select(\"id\", \"name\"),\n",
    "        F.col(\"categoryId\") == diseases_all.id,\n",
    "        \"left\",\n",
    "    )\n",
    "    .drop(\"id\")\n",
    "    .withColumnRenamed(\"name\", \"categoryLabel\")\n",
    "    .withColumn(\"categoryType\", F.lit(\"therapeutic area\"))\n",
    "    .select(*diseases.columns)\n",
    ")\n",
    "\n",
    "diseasesFacets = (\n",
    "    therapeuticAreas.union(diseases)\n",
    "    .selectExpr(\n",
    "        \"diseaseId as entityIds\",\n",
    "        \"categoryType as category\",\n",
    "        \"categoryLabel as label\",\n",
    "        \"categoryId as datasourceId\",\n",
    "    )\n",
    "    .groupBy(\"category\", \"label\", \"datasourceId\")\n",
    "    .agg(F.collect_set(F.col(\"entityIds\")).alias(\"entityIds\"))\n",
    "    .persist()\n",
    ")"
   ]
  },
  {
   "cell_type": "markdown",
   "metadata": {},
   "source": [
    "#### preparing second gist for James \n",
    "#### 15.07.2024"
   ]
  },
  {
   "cell_type": "code",
   "execution_count": 38,
   "metadata": {},
   "outputs": [
    {
     "name": "stderr",
     "output_type": "stream",
     "text": [
      "24/07/15 21:14:57 WARN CacheManager: Asked to cache already cached data.\n"
     ]
    }
   ],
   "source": [
    "column_order = [\"targetId\", \"categoryType\", \"categoryLabel\", \"categoryId\"]\n",
    "\n",
    "tissueSpecificity = (\n",
    "    testing.withColumnRenamed(\"Ensembl\", \"targetId\")\n",
    "    .withColumn(\"categoryType\", F.lit(\"tissueSpecificity\"))\n",
    "    .withColumn(\"categoryLabel\", F.lit(F.col(\"RNA tissue specificity\")))\n",
    "    .withColumn(\"categoryId\", F.lit(None))\n",
    "    .select(*column_order)\n",
    ")\n",
    "tissueDistribution = (\n",
    "    testing.withColumnRenamed(\"Ensembl\", \"targetId\")\n",
    "    .withColumn(\"categoryType\", F.lit(\"tissueDistribution\"))\n",
    "    .withColumn(\"categoryLabel\", F.lit(F.col(\"RNA tissue distribution\")))\n",
    "    .withColumn(\"categoryId\", F.lit(None))\n",
    "    .select(*column_order)\n",
    ")\n",
    "\n",
    "## union of everything\n",
    "unionDistrSpecif = (\n",
    "    (tissueSpecificity.union(tissueDistribution))\n",
    "    .filter(F.col(\"targetId\").isNotNull())\n",
    "    .persist()\n",
    ")\n",
    "\n",
    "### with good names and format:\n",
    "targetFacetsDistrSpecif = (\n",
    "    unionDistrSpecif.selectExpr(\n",
    "        \"categoryType as category\",\n",
    "        \"categoryLabel as label\",\n",
    "        \"targetId as entityIds\",\n",
    "        \"categoryId as datasourceId\",\n",
    "    )\n",
    "    .groupBy(\"category\", \"label\", \"datasourceId\")\n",
    "    .agg(F.collect_set(\"entityIds\").alias(\"entityIds\"))\n",
    "    .withColumn(\"datasourceId\", F.lit(\"HPA\"))\n",
    ")"
   ]
  },
  {
   "cell_type": "code",
   "execution_count": 41,
   "metadata": {},
   "outputs": [
    {
     "name": "stderr",
     "output_type": "stream",
     "text": [
      "                                                                                \r"
     ]
    }
   ],
   "source": [
    "### write to json format:\n",
    "targetFacetsDistrSpecif.coalesce(1).write.format(\"json\").save(\n",
    "    \"gs://ot-team/jroldan/hpa_data2/facetsDistrSpecif.json\"\n",
    ")"
   ]
  }
 ],
 "metadata": {
  "kernelspec": {
   "display_name": "PySpark",
   "language": "python",
   "name": "pyspark"
  },
  "language_info": {
   "codemirror_mode": {
    "name": "ipython",
    "version": 3
   },
   "file_extension": ".py",
   "mimetype": "text/x-python",
   "name": "python",
   "nbconvert_exporter": "python",
   "pygments_lexer": "ipython3",
   "version": "3.10.8"
  }
 },
 "nbformat": 4,
 "nbformat_minor": 2
}
